{
 "cells": [
  {
   "cell_type": "markdown",
   "id": "eb935d9a-a00d-4da1-a770-efb9f82bc4c1",
   "metadata": {},
   "source": [
    "## Laboratorio 2 IA - Implementación del Algoritmo DBSCAN"
   ]
  },
  {
   "cell_type": "markdown",
   "id": "e189306d-3bc4-483c-82c8-d5dcf9eba46d",
   "metadata": {},
   "source": [
    "### Bastian Rojas Pereira"
   ]
  },
  {
   "cell_type": "markdown",
   "id": "05654ec7-1a67-4b2f-8508-e846f7321ba0",
   "metadata": {},
   "source": [
    "#### Primero importamos las bibliotecas que utilizaremos para este laboratorio"
   ]
  },
  {
   "cell_type": "code",
   "execution_count": 1,
   "id": "bd084aed-f326-460c-a667-fd3172a94130",
   "metadata": {
    "tags": []
   },
   "outputs": [],
   "source": [
    "import pandas as pd\n",
    "import numpy as np\n",
    "import matplotlib.pyplot as plt\n",
    "from sklearn.cluster import DBSCAN\n",
    "from sklearn.preprocessing import StandardScaler\n",
    "from sklearn import metrics"
   ]
  },
  {
   "cell_type": "markdown",
   "id": "ac88da8d-1d49-499d-943d-0f0e63ae954d",
   "metadata": {},
   "source": [
    "#### Cargamos los datos del data set encontrado en github"
   ]
  },
  {
   "cell_type": "code",
   "execution_count": 2,
   "id": "8ee57171-f7a5-4d5d-845a-ad1b51db4e1a",
   "metadata": {
    "tags": []
   },
   "outputs": [],
   "source": [
    "url = \"https://raw.githubusercontent.com/selva86/datasets/master/Auto.csv\"\n",
    "data = pd.read_csv(url)"
   ]
  },
  {
   "cell_type": "markdown",
   "id": "41c471b0-2ed3-4ef5-90a2-e5156503968c",
   "metadata": {},
   "source": [
    "#### Es el mismo conjunto de datos utilizado anteriormente en el laboratorio del electivo Mlops que contiene información sobre varios modelos de automóviles, incluidos detalles como el fabricante, el modelo, el año de fabricación, el número de cilindros, la cilindrada, la potencia neta, el peso en libras, la aceleración, el país de origen y el consumo de combustible en millas por galón (mpg)."
   ]
  },
  {
   "cell_type": "code",
   "execution_count": 3,
   "id": "c0e96f01-b61a-4e19-901a-32725495f62d",
   "metadata": {
    "tags": []
   },
   "outputs": [],
   "source": [
    "numeric_features = data.select_dtypes(include=[np.number])"
   ]
  },
  {
   "cell_type": "markdown",
   "id": "78106651-1e98-4e4c-af1a-599b40cd3ab6",
   "metadata": {},
   "source": [
    "#### Usamos la funcion de Pandas que selecciona las columnas del DataFrame data que tienen tipos de datos numéricos y la opción include=[np.number] le indica a la función que incluya solo las columnas con tipos de datos numéricos."
   ]
  },
  {
   "cell_type": "code",
   "execution_count": 4,
   "id": "cb35539e-8788-4483-9015-d28d25aa4481",
   "metadata": {
    "tags": []
   },
   "outputs": [],
   "source": [
    "scaler = StandardScaler()\n",
    "data_scaled = scaler.fit_transform(numeric_features)"
   ]
  },
  {
   "cell_type": "markdown",
   "id": "b98225b4-0cd1-4851-a860-cada45779094",
   "metadata": {},
   "source": [
    "#### Usamos una técnica de preprocesamiento (Scikit-lear) que normaliza las características numéricas de manera que tengan una media de 0 y una desviación estándar de 1."
   ]
  },
  {
   "cell_type": "code",
   "execution_count": 5,
   "id": "2b1cc193-2409-45e0-9391-093ea7ffc8f3",
   "metadata": {
    "tags": []
   },
   "outputs": [],
   "source": [
    "eps_values = [0.1, 0.5, 1.0, 2.0]\n",
    "min_samples_values = [3, 5, 10, 20]"
   ]
  },
  {
   "cell_type": "markdown",
   "id": "ed4687ef-30ab-4f0c-b4a6-e03dcae9fc32",
   "metadata": {},
   "source": [
    "#### Hacemos el ajuste de los hiperparametros del eps (Que define la distancia máxima entre dos muestras para que sean consideradas parte del mismo vecindario) y min_samples (especifica el número mínimo de muestras que deben estar en una vecindad para que un punto sea considerado como un punto central) "
   ]
  },
  {
   "cell_type": "code",
   "execution_count": 6,
   "id": "370e5b3b-b829-4d2d-ad21-e5a051ba44fe",
   "metadata": {
    "tags": []
   },
   "outputs": [],
   "source": [
    "best_score = -1\n",
    "best_eps = None\n",
    "best_min_samples = None\n",
    "best_clusters = None"
   ]
  },
  {
   "cell_type": "markdown",
   "id": "6e5f699a-cb95-46bb-9ea0-5b223da1fffa",
   "metadata": {},
   "source": [
    "#### Y colocamos estas variables que se utilizarán para almacenar los mejores resultados obtenidos durante la búsqueda de hiperparámetros."
   ]
  },
  {
   "cell_type": "markdown",
   "id": "745db04d-17bd-449f-99a9-b4f4583e7bd3",
   "metadata": {},
   "source": [
    "##### best_score: Almacena el mejor puntaje de silueta encontrado hasta el momento durante la búsqueda de hiperparámetros. Se inicializa en -1 para garantizar que cualquier puntaje de silueta encontrado sea mayor o igual a este valor."
   ]
  },
  {
   "cell_type": "markdown",
   "id": "1c71561d-d041-4001-b2b0-f886d238b03a",
   "metadata": {},
   "source": [
    "##### best_eps: Almacena el valor de eps que produce el mejor puntaje de silueta encontrado hasta el momento. Se inicializa en None para indicar que aún no se ha encontrado el mejor valor de eps"
   ]
  },
  {
   "cell_type": "markdown",
   "id": "27bbd5a5-6548-47ad-bfb3-b4d58ce9cfce",
   "metadata": {},
   "source": [
    "##### best_min_samples: Almacena el valor de min_samples que produce el mejor puntaje de silueta encontrado hasta el momento. Se inicializa en None para indicar que aún no se ha encontrado el mejor valor de min_samples."
   ]
  },
  {
   "cell_type": "markdown",
   "id": "e574db46-07fb-4c77-bd41-3aafbcc5f4d8",
   "metadata": {},
   "source": [
    "##### best_clusters: Almacena los clusters generados por DBSCAN que producen el mejor puntaje de silueta encontrado hasta el momento. Se inicializa en None para indicar que aún no se han encontrado los mejores clusters."
   ]
  },
  {
   "cell_type": "markdown",
   "id": "644679d1-72e8-4e7f-8a5c-058b0f967cd4",
   "metadata": {},
   "source": [
    "## Que es un cluster?"
   ]
  },
  {
   "cell_type": "markdown",
   "id": "5d66cd2b-5fd0-401b-9600-dd306498dd03",
   "metadata": {},
   "source": [
    "#### Un cluster es un grupo de puntos que están densamente conectados entre sí según la distancia definida por los parámetros eps y min_samples."
   ]
  },
  {
   "cell_type": "code",
   "execution_count": 7,
   "id": "70c9d9aa-a06b-4907-90ae-788ed27ac985",
   "metadata": {
    "tags": []
   },
   "outputs": [
    {
     "data": {
      "image/png": "[encoded data removed]",
      "text/plain": [
       "<Figure size 640x480 with 1 Axes>"
      ]
     },
     "metadata": {},
     "output_type": "display_data"
    },
    {
     "name": "stdout",
     "output_type": "stream",
     "text": [
      "Mejores hiperparámetros:\n",
      "EPS: 2.0\n",
      "Min_samples: 20\n"
     ]
    }
   ],
   "source": [
    "for eps in eps_values:\n",
    "    for min_samples in min_samples_values:\n",
    "        dbscan = DBSCAN(eps=eps, min_samples=min_samples)\n",
    "        clusters = dbscan.fit_predict(data_scaled)\n",
    "        try:\n",
    "            silhouette_score = metrics.silhouette_score(data_scaled, clusters)\n",
    "            if silhouette_score > best_score:\n",
    "                best_score = silhouette_score\n",
    "                best_eps = eps\n",
    "                best_min_samples = min_samples\n",
    "                best_clusters = clusters\n",
    "        except:\n",
    "            continue\n",
    "\n",
    "dbscan = DBSCAN(eps=best_eps, min_samples=best_min_samples)\n",
    "best_clusters = dbscan.fit_predict(data_scaled)\n",
    "\n",
    "plt.scatter(data_scaled[:,0], data_scaled[:,1], c=best_clusters, cmap='viridis')\n",
    "plt.xlabel('Feature 1')\n",
    "plt.ylabel('Feature 2')\n",
    "plt.title('DBSCAN Clustering')\n",
    "plt.show() \n",
    "\n",
    "print(\"Mejores hiperparámetros:\")\n",
    "print(\"EPS:\", best_eps)\n",
    "print(\"Min_samples:\", best_min_samples)"
   ]
  },
  {
   "cell_type": "markdown",
   "id": "e2fe4c78-ddf7-4f52-99ef-1db5f7843888",
   "metadata": {},
   "source": [
    "##### 1- Interpretamos sobre todas las combinaciones posibles de valores de eps y min_samples definidos en eps_values y min_samples_values.\n",
    "##### 2- Para cada combinación de valores de eps y min_samples, ajustamos un modelo DBSCAN utilizando esos valores y lo aplica al conjunto de datos normalizado (data_scaled) para obtener los clusters.\n",
    "##### 3- Calculamos el puntaje de silueta para los clusters obtenidos utilizando la función metrics.silhouette_score.\n",
    "##### 4- Actualizamos los valores de best_score, best_eps, best_min_samples y best_clusters si el puntaje de silueta actual es mayor que el mejor puntaje de silueta encontrado hasta el momento.\n",
    "##### 5- Utilizamos los mejores valores de eps y min_samples para ajustar el modelo DBSCAN y obtener los clusters finales.\n",
    "##### 6- Visualizamos los clusters en un gráfico de dispersión, donde cada punto representa una instancia de datos y su color indica a qué cluster pertenece.\n",
    "##### 7- Después imprimimos los mejores valores de eps y min_samples."
   ]
  },
  {
   "cell_type": "markdown",
   "id": "1a08087f-1293-4ab2-8695-051e30312769",
   "metadata": {},
   "source": [
    "## Conclusion"
   ]
  },
  {
   "cell_type": "markdown",
   "id": "066cf782-269b-48d8-aa37-403d63da7ffe",
   "metadata": {},
   "source": [
    "#### Como vimos que los resultados del \"eps\" es 2.0 y \"min_samples\" es 20, Podemos decir que DBSCAN buscará clusters donde cada punto central tenga al menos 20 puntos dentro de su vecindad (incluyendo él mismo) y donde todos estos puntos estén dentro de una distancia de 2.0 unidades entre sí. \n",
    "#### Esto tiende a resultar en clusters más grandes y menos clusters en general, ya que requiere una densidad más alta de puntos para formar un cluster."
   ]
  },
  {
   "cell_type": "markdown",
   "id": "69e528e5-c8fe-4f46-b42e-5d2bb1337996",
   "metadata": {},
   "source": [
    "#### Con estos resultados son especialmente relevantes para aplicaciones donde se busca identificar grupos densamente poblados en conjuntos de datos complejos. \n",
    "#### La capacidad de DBSCAN para identificar clusters de formas irregulares y tamaños variables, junto con su robustez frente a puntos atípicos, lo hace una herramienta valiosa para análisis exploratorios y tareas de segmentación en una variedad de dominios."
   ]
  }
 ],
 "metadata": {
  "kernelspec": {
   "display_name": "Python 3 (ipykernel)",
   "language": "python",
   "name": "python3"
  },
  "language_info": {
   "codemirror_mode": {
    "name": "ipython",
    "version": 3
   },
   "file_extension": ".py",
   "mimetype": "text/x-python",
   "name": "python",
   "nbconvert_exporter": "python",
   "pygments_lexer": "ipython3",
   "version": "3.10.9"
  }
 },
 "nbformat": 4,
 "nbformat_minor": 5
}
