{
 "cells": [
  {
   "cell_type": "markdown",
   "id": "42908506",
   "metadata": {},
   "source": [
    "#### Parte 3: Arquitectura de una CNN\n",
    "\n",
    "Una arquitectura típica de CNN consiste en capas alternadas de convolución y pooling, seguidas de capas completamente conectadas:"
   ]
  },
  {
   "cell_type": "markdown",
   "id": "c51424f0-9f16-4825-8830-8b648ee4eaa5",
   "metadata": {},
   "source": [
    "\n",
    "\n",
    "- Una capa convolucional con 32 filtros, tamaño de kernel 3x3 y activación ReLU.\n",
    "- Una capa de max pooling con tamaño de pool 2x2.\n",
    "- Una segunda capa convolucional con 64 filtros, tamaño de kernel 3x3 y activación ReLU.\n",
    "- Una segunda capa de max pooling con tamaño de pool 2x2.\n",
    "- Una tercera capa convolucional con 64 filtros, tamaño de kernel 3x3 y activación ReLU.\n",
    "- Una capa completamente conectada con 64 unidades y activación ReLU.\n",
    "- Una capa de salida con 10 unidades y activación softmax (para una clasificación de 10 clases)."
   ]
  },
  {
   "cell_type": "markdown",
   "id": "5b08b434-2b0f-4ca8-b176-0f944c995633",
   "metadata": {},
   "source": [
    "\n",
    "\n",
    "### Explicación\n",
    "\n",
    "1. **Capas Convolucionales**:\n",
    "   - `self.conv1`: 32 filtros, tamaño de kernel 3x3, activación ReLU.\n",
    "   - `self.conv2`: 64 filtros, tamaño de kernel 3x3, activación ReLU.\n",
    "   - `self.conv3`: 64 filtros, tamaño de kernel 3x3, activación ReLU.\n",
    "\n",
    "2. **Capas de Pooling**:\n",
    "   - `self.pool1`: Max pooling con tamaño 2x2.\n",
    "   - `self.pool2`: Max pooling con tamaño 2x2.\n",
    "   - `self.pool3`: Max pooling con tamaño 2x2.\n",
    "\n",
    "3. **Capas Completamente Conectadas**:\n",
    "   - `self.fc1`: 64 unidades, activación ReLU.\n",
    "   - `self.fc2`: 10 unidades (para 10 clases de salida).\n",
    "\n",
    "4. **Aplanado**:\n",
    "   - `x = x.view(-1, 64 * 4 * 4)`: Aplanar las características antes de pasar a las capas completamente conectadas.\n",
    "\n",
    "### Uso del Modelo\n",
    "\n",
    "Para usar este modelo, puedes definir un conjunto de datos, un optimizador y un criterio de pérdida, y luego entrenar la red con tus datos."
   ]
  },
  {
   "cell_type": "code",
   "execution_count": 4,
   "id": "82c8db33",
   "metadata": {
    "tags": []
   },
   "outputs": [],
   "source": [
    "import torch\n",
    "import torch.nn as nn\n",
    "import torchvision\n",
    "import torchvision.transforms as transforms\n",
    "import torch.nn.functional as F"
   ]
  },
  {
   "cell_type": "code",
   "execution_count": 5,
   "id": "be08db9c-0575-4ee6-b5aa-2c5e3118931c",
   "metadata": {
    "tags": []
   },
   "outputs": [
    {
     "name": "stdout",
     "output_type": "stream",
     "text": [
      "CNN(\n",
      "  (conv1): Conv2d(3, 32, kernel_size=(3, 3), stride=(1, 1), padding=(1, 1))\n",
      "  (pool1): MaxPool2d(kernel_size=2, stride=2, padding=0, dilation=1, ceil_mode=False)\n",
      "  (conv2): Conv2d(32, 64, kernel_size=(3, 3), stride=(1, 1), padding=(1, 1))\n",
      "  (pool2): MaxPool2d(kernel_size=2, stride=2, padding=0, dilation=1, ceil_mode=False)\n",
      "  (conv3): Conv2d(64, 64, kernel_size=(3, 3), stride=(1, 1), padding=(1, 1))\n",
      "  (pool3): MaxPool2d(kernel_size=2, stride=2, padding=0, dilation=1, ceil_mode=False)\n",
      "  (fc1): Linear(in_features=1024, out_features=64, bias=True)\n",
      "  (out1): Linear(in_features=64, out_features=10, bias=True)\n",
      ")\n"
     ]
    }
   ],
   "source": [
    "class CNN(nn.Module):\n",
    "    def __init__(self):\n",
    "        super(CNN, self).__init__()\n",
    "        # Capa convolucional 1: 32 filtros, kernel 3x3, activación ReLU\n",
    "        self.conv1 = nn.Conv2d(in_channels=3, out_channels=32, kernel_size=3, padding=1)\n",
    "        # Capa de max pooling 1: tamaño del pool 2x2\n",
    "        self.pool1 = nn.MaxPool2d(kernel_size=2, stride=2)\n",
    "\n",
    "        # Capa convolucional 2: 64 filtros, kernel 3x3, activación ReLU\n",
    "        self.conv2 = nn.Conv2d(in_channels=32, out_channels=64, kernel_size=3, padding=1)\n",
    "        # Capa de max pooling 2: tamaño del pool 2x2\n",
    "        self.pool2 = nn.MaxPool2d(kernel_size=2, stride=2)\n",
    "\n",
    "        # Capa convolucional 3: 64 filtros, kernel 3x3, activación ReLU\n",
    "        self.conv3 = nn.Conv2d(in_channels=64, out_channels=64, kernel_size=3, padding=1)\n",
    "        # Capa de max pooling 3: tamaño del pool 2x2\n",
    "        self.pool3 = nn.MaxPool2d(kernel_size=2, stride=2)\n",
    "        # Capa completamente conectada: 64 unidades, activación ReLU\n",
    "        self.fc1 = nn.Linear(64 * 4 * 4, 64)\n",
    "        # Capa de salida: 10 unidades (para clasificación en 10 clases), activación softmax\n",
    "        self.out1 = nn.Linear(64, 10)\n",
    "        \n",
    "    def forward(self, x):\n",
    "        # Aplicar la primera capa convolucional seguida de ReLU y pooling\n",
    "        x = self.pool1(F.relu(self.conv1(x)))\n",
    "        # Aplicar la segunda capa convolucional seguida de ReLU y pooling\n",
    "        x = self.pool2(F.relu(self.conv2(x)))\n",
    "        # Aplicar la tercera capa convolucional seguida de ReLU y pooling\n",
    "        x = self.pool3(F.relu(self.conv3(x)))\n",
    "        # Aplanar las características para la capa completamente conectada\n",
    "        x = x.view(-1, 64 * 4 * 4)\n",
    "        # Aplicar la primera capa completamente conectada seguida de ReLU\n",
    "        x = F.relu(self.fc1(x))\n",
    "        # Aplicar la capa de salida\n",
    "        x = F.softmax(self.out1(x), dim=1)\n",
    "        return x\n",
    "\n",
    "# Crear una instancia de la red\n",
    "net = CNN()\n",
    "\n",
    "# Mostrar la arquitectura del modelo\n",
    "print(net)\n"
   ]
  },
  {
   "cell_type": "code",
   "execution_count": 6,
   "id": "5d755d35-d52a-4425-a76a-729e254d4f75",
   "metadata": {
    "tags": []
   },
   "outputs": [
    {
     "name": "stdout",
     "output_type": "stream",
     "text": [
      "Files already downloaded and verified\n"
     ]
    }
   ],
   "source": [
    "import torchvision.datasets as dsets\n",
    "\n",
    "train_dataset = dsets.CIFAR10(root='./data', \n",
    "                            train=True, \n",
    "                            transform=transforms.ToTensor(),\n",
    "                            download=True)\n",
    "\n",
    "test_dataset = dsets.CIFAR10(root='./data', \n",
    "                           train=False, \n",
    "                           transform=transforms.ToTensor())"
   ]
  },
  {
   "cell_type": "code",
   "execution_count": 7,
   "id": "d2b48126",
   "metadata": {
    "tags": []
   },
   "outputs": [],
   "source": [
    "batch_size = 16\n",
    "n_iters = 5\n",
    "num_epochs = n_iters / (len(train_dataset) / batch_size)\n",
    "num_epochs = int(num_epochs)\n",
    "\n",
    "train_loader = torch.utils.data.DataLoader(dataset=train_dataset, \n",
    "                                           batch_size=batch_size,\n",
    "                                           shuffle=True)\n",
    "\n",
    "test_loader = torch.utils.data.DataLoader(dataset=test_dataset, \n",
    "                                          batch_size=batch_size, \n",
    "                                          shuffle=False)"
   ]
  },
  {
   "cell_type": "code",
   "execution_count": 8,
   "id": "e7fad716",
   "metadata": {
    "tags": []
   },
   "outputs": [],
   "source": [
    "model = CNN()\n",
    "criterion = nn.CrossEntropyLoss()"
   ]
  },
  {
   "cell_type": "code",
   "execution_count": 9,
   "id": "6b04f33d",
   "metadata": {
    "tags": []
   },
   "outputs": [],
   "source": [
    "learning_rate = 0.01\n",
    "\n",
    "optimizer = torch.optim.SGD(model.parameters(), lr=learning_rate) "
   ]
  },
  {
   "cell_type": "code",
   "execution_count": 10,
   "id": "c32d6c7b",
   "metadata": {
    "tags": []
   },
   "outputs": [
    {
     "name": "stdout",
     "output_type": "stream",
     "text": [
      "Epoch 1, Train Loss: 2.3025, Val Loss: 2.3025\n",
      "Epoch 2, Train Loss: 2.3024, Val Loss: 2.3023\n",
      "Epoch 3, Train Loss: 2.3022, Val Loss: 2.3020\n",
      "Epoch 4, Train Loss: 2.3017, Val Loss: 2.3011\n",
      "Epoch 5, Train Loss: 2.2987, Val Loss: 2.2908\n",
      "Epoch 6, Train Loss: 2.2674, Val Loss: 2.2444\n",
      "Epoch 7, Train Loss: 2.2234, Val Loss: 2.1893\n",
      "Epoch 8, Train Loss: 2.1827, Val Loss: 2.1808\n",
      "Epoch 9, Train Loss: 2.1706, Val Loss: 2.1624\n",
      "Epoch 10, Train Loss: 2.1617, Val Loss: 2.1592\n",
      "Finished Training\n"
     ]
    }
   ],
   "source": [
    "from torch.utils.data import random_split\n",
    "\n",
    "# Dividir el conjunto de entrenamiento para validación\n",
    "train_size = int(0.8 * len(train_dataset))\n",
    "val_size = len(train_dataset) - train_size\n",
    "train_dataset, val_dataset = random_split(train_dataset, [train_size, val_size])\n",
    "\n",
    "train_loader = torch.utils.data.DataLoader(train_dataset, batch_size=batch_size, shuffle=True)\n",
    "val_loader = torch.utils.data.DataLoader(val_dataset, batch_size=batch_size, shuffle=False)\n",
    "\n",
    "best_val_loss = float('inf')\n",
    "\n",
    "for epoch in range(10):\n",
    "    model.train()  # Poner el modelo en modo de entrenamiento\n",
    "    running_loss = 0.0\n",
    "    for inputs, labels in train_loader:\n",
    "        optimizer.zero_grad()\n",
    "        outputs = model(inputs)\n",
    "        loss = criterion(outputs, labels)\n",
    "        loss.backward()\n",
    "        optimizer.step()\n",
    "        running_loss += loss.item()\n",
    "\n",
    "    # Evaluación con el conjunto de validación\n",
    "    model.eval()  # Poner el modelo en modo de evaluación\n",
    "    with torch.no_grad():\n",
    "        val_loss = 0.0\n",
    "        for inputs, labels in val_loader:\n",
    "            outputs = model(inputs)\n",
    "            loss = criterion(outputs, labels)\n",
    "            val_loss += loss.item()\n",
    "\n",
    "    # Cálculo de las medias de las pérdidas\n",
    "    train_loss = running_loss / len(train_loader)\n",
    "    val_loss = val_loss / len(val_loader)\n",
    "\n",
    "    print(f'Epoch {epoch+1}, Train Loss: {train_loss:.4f}, Val Loss: {val_loss:.4f}')\n",
    "\n",
    "    # Guardar el mejor modelo\n",
    "    if val_loss < best_val_loss:\n",
    "        best_val_loss = val_loss\n",
    "        torch.save(model.state_dict(), 'best_model.pth')\n",
    "\n",
    "print(\"Finished Training\")"
   ]
  },
  {
   "cell_type": "code",
   "execution_count": 21,
   "id": "7cb5b060",
   "metadata": {},
   "outputs": [
    {
     "name": "stdout",
     "output_type": "stream",
     "text": [
      "Accuracy of the model on the test images: 29.63%\n"
     ]
    }
   ],
   "source": [
    "# Cargar el mejor modelo guardado\n",
    "model.load_state_dict(torch.load('best_model.pth'))\n",
    "\n",
    "# Poner el modelo en modo de evaluación\n",
    "model.eval()\n",
    "\n",
    "# Inicializar métricas de evaluación\n",
    "correct = 0\n",
    "total = 0\n",
    "\n",
    "# No se necesita cálculo de gradientes para la evaluación\n",
    "with torch.no_grad():\n",
    "    for inputs, labels in test_loader:\n",
    "        outputs = model(inputs)\n",
    "        _, predicted = torch.max(outputs.data, 1)\n",
    "        total += labels.size(0)\n",
    "        correct += (predicted == labels).sum().item()\n",
    "\n",
    "# Calcular la precisión del modelo\n",
    "accuracy = 100 * correct / total\n",
    "print(f'Accuracy of the model on the test images: {accuracy:.2f}%')"
   ]
  },
  {
   "cell_type": "code",
   "execution_count": null,
   "id": "8a003ec9-5db1-4c4c-bb64-c57f6b15058e",
   "metadata": {},
   "outputs": [],
   "source": []
  }
 ],
 "metadata": {
  "kernelspec": {
   "display_name": "Python 3 (ipykernel)",
   "language": "python",
   "name": "python3"
  },
  "language_info": {
   "codemirror_mode": {
    "name": "ipython",
    "version": 3
   },
   "file_extension": ".py",
   "mimetype": "text/x-python",
   "name": "python",
   "nbconvert_exporter": "python",
   "pygments_lexer": "ipython3",
   "version": "3.11.7"
  }
 },
 "nbformat": 4,
 "nbformat_minor": 5
}
